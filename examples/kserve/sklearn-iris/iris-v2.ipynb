{
 "cells": [
  {
   "cell_type": "markdown",
   "id": "91809424-3821-4e18-b923-a4f03166ed6c",
   "metadata": {},
   "source": [
    "# Sklearn Model Serving with KServe on KubeFlow\n",
    "\n",
    "Adapted from [https://kserve.github.io/website/modelserving/v1beta1/sklearn/v2/](https://kserve.github.io/website/modelserving/v1beta1/sklearn/v2/)\n",
    "\n",
    "## Training"
   ]
  },
  {
   "cell_type": "code",
   "execution_count": 1,
   "id": "5b5e6883-7c34-442b-a9d0-e652a98fc7e8",
   "metadata": {},
   "outputs": [
    {
     "data": {
      "text/plain": [
       "['model.joblib']"
      ]
     },
     "execution_count": 1,
     "metadata": {},
     "output_type": "execute_result"
    }
   ],
   "source": [
    "from sklearn import svm\n",
    "from sklearn import datasets\n",
    "from joblib import dump\n",
    "\n",
    "iris = datasets.load_iris()\n",
    "X, y = iris.data, iris.target\n",
    "\n",
    "clf = svm.SVC(gamma='scale')\n",
    "clf.fit(X, y)\n",
    "\n",
    "dump(clf, 'model.joblib')"
   ]
  },
  {
   "cell_type": "markdown",
   "id": "47bebc99-1bb5-4b6e-9a4f-d29a865a7b6f",
   "metadata": {},
   "source": [
    "The model.joblib file is the trained model. It needs to be posted on some reachable storage.\n",
    "\n",
    "Posted on a bucket with a Pre-Auth request here: [https://objectstorage.us-sanjose-1.oraclecloud.com/p/xKuRUl7hf7BE3t0G4aPakNb4n73cCrZ1zTNQadtW2XBzJFzhT6j8aIsWbvViir7C/n/bigdatadatasciencelarge/b/epleroy-public-models/o/model.joblib](https://objectstorage.us-sanjose-1.oraclecloud.com/p/xKuRUl7hf7BE3t0G4aPakNb4n73cCrZ1zTNQadtW2XBzJFzhT6j8aIsWbvViir7C/n/bigdatadatasciencelarge/b/epleroy-public-models/o/model.joblib)"
   ]
  },
  {
   "cell_type": "markdown",
   "id": "5d7bc0d6-7508-4e75-abd7-a1c1eb05bc89",
   "metadata": {},
   "source": [
    "This URL is passed in the InferenceModel yaml:\n",
    "\n",
    "```yaml\n",
    "apiVersion: \"serving.kserve.io/v1beta1\"\n",
    "kind: \"InferenceService\"\n",
    "metadata:\n",
    "  name: \"sklearn-irisv2\"\n",
    "spec:\n",
    "  predictor:\n",
    "    sklearn:\n",
    "      protocolVersion: \"v2\"\n",
    "      storageUri: \"https://objectstorage.us-sanjose-1.oraclecloud.com/p/xKuRUl7hf7BE3t0G4aPakNb4n73cCrZ1zTNQadtW2XBzJFzhT6j8aIsWbvViir7C/n/bigdatadatasciencelarge/b/epleroy-public-models/o/model.joblib\"\n",
    "```\n",
    "\n",
    "## Call the Inference Server:\n",
    "\n",
    "Create the payload as `inputs.json`\n",
    "\n",
    "```json\n",
    "{\n",
    "  \"inputs\": [\n",
    "    {\n",
    "      \"name\": \"input-0\",\n",
    "      \"shape\": [2, 4],\n",
    "      \"datatype\": \"FP32\",\n",
    "      \"data\": [\n",
    "        [6.8, 2.8, 4.8, 1.4],\n",
    "        [6.0, 3.4, 4.5, 1.6]\n",
    "      ]\n",
    "    }\n",
    "  ]\n",
    "}\n",
    "```"
   ]
  },
  {
   "cell_type": "markdown",
   "id": "092892c4-af0a-4e84-a2cd-22bd9a52f6a1",
   "metadata": {},
   "source": [
    "### Get the cookie from the KubeFlow UI\n",
    "\n",
    "Option+Command+i on Mac OS get you into the Developer Tools\n",
    "\n",
    "Under Application, look for Cookies, and especially look for the `authservice_session` cookie.\n",
    "Copy the value of the cookie.\n",
    "\n",
    "then run:\n",
    "\n",
    "```bash\n",
    "export COOKIE_VALUE=xxxxxxxxxxxxxxxxWtsUFFsSkhWRmMzVGpkRFExTmFTRWRUUms5Q04wMU1WalJQUkU4M05qSlBVa2RUU3pRMVRsRkxVMEU9fO-F8FEGEuzz3rLPXalgkqzzzzzzzzzzzz\n",
    "export MODEL_NAME=sklearn-irisv2\n",
    "export NAMESPACE=<yournamespace>\n",
    "export DOMAIN_NAME=<yourdomainname>\n",
    "export MODEL_ENDPOINT=\"${MODEL_NAME}.${NAMESPACE}.${DOMAIN_NAME}\"\n",
    "\n",
    "curl -v -L -X POST -d @./inputs.json -H \"Content-Type: application/json\" -H \"Cookie: authservice_session=${COOKIE_VALUE}\" -H \"Host: ${MODEL_ENDPOINT}\" https://$MODEL_ENDPOINT/v2/models/$MODEL_NAME/infer\n",
    "```"
   ]
  },
  {
   "cell_type": "code",
   "execution_count": null,
   "id": "133ad8e9-4ff6-4a23-bcd3-f38f5c9e348d",
   "metadata": {},
   "outputs": [],
   "source": []
  }
 ],
 "metadata": {
  "kernelspec": {
   "display_name": "Python 3 (ipykernel)",
   "language": "python",
   "name": "python3"
  },
  "language_info": {
   "codemirror_mode": {
    "name": "ipython",
    "version": 3
   },
   "file_extension": ".py",
   "mimetype": "text/x-python",
   "name": "python",
   "nbconvert_exporter": "python",
   "pygments_lexer": "ipython3",
   "version": "3.8.10"
  }
 },
 "nbformat": 4,
 "nbformat_minor": 5
}
